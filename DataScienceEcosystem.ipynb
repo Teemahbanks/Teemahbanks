{
 "cells": [
  {
   "cell_type": "markdown",
   "id": "5499dcd1-197d-4fb5-b6c9-604b7f0af1c3",
   "metadata": {},
   "source": [
    "# Data Science Tools and Ecosystem"
   ]
  },
  {
   "cell_type": "markdown",
   "id": "b6cb6b3a-e42b-4a48-8f10-d5f8732524d1",
   "metadata": {},
   "source": [
    "In this notebook, Data Science Tools and Ecosystem are summarized."
   ]
  },
  {
   "cell_type": "markdown",
   "id": "864b73c7-75c6-4616-a9f8-ffdb163d3d17",
   "metadata": {},
   "source": [
    "### Objectives:\n",
    "- List popular languages for Data Science\n",
    "- List connonly used libraries for Data Science\n",
    "- List Data Science tools"
   ]
  },
  {
   "cell_type": "markdown",
   "id": "fa3c7363-1d34-432a-a61d-ea105d72898c",
   "metadata": {},
   "source": [
    "Some of the popular languages that Data Scientists use are:\n",
    "1. Python\n",
    "2. R\n",
    "3. SQL\n",
    "4. C++"
   ]
  },
  {
   "cell_type": "markdown",
   "id": "04f18e65-36c6-4028-8c0b-b24b39b9539a",
   "metadata": {},
   "source": [
    "Some of the commonly used libraries for Data Scientists include:\n",
    "1. NumPy\n",
    "2. Pandas\n",
    "3. TensorFlow\n",
    "4. ggplot"
   ]
  },
  {
   "cell_type": "markdown",
   "id": "255347c7-c631-49ab-a3cf-321b9115a28d",
   "metadata": {},
   "source": [
    "|Data Science Tools|\n",
    "--------------------\n",
    "|Jupyter Notebook        |\n",
    "|Microsoft Visual Studio |\n",
    "|Google Colab            |"
   ]
  },
  {
   "cell_type": "markdown",
   "id": "4e968145-37f6-49c1-b02b-38d2700bdf72",
   "metadata": {},
   "source": [
    "### Below are a few examples of evaluating arithmetic expressions in Python"
   ]
  },
  {
   "cell_type": "code",
   "execution_count": 4,
   "id": "32c73df7-f440-4168-bb90-444efce35255",
   "metadata": {},
   "outputs": [
    {
     "data": {
      "text/plain": [
       "17"
      ]
     },
     "execution_count": 4,
     "metadata": {},
     "output_type": "execute_result"
    }
   ],
   "source": [
    "# This is a simple arithmetic expression to multiply then add integers\n",
    "(3*4)+5"
   ]
  },
  {
   "cell_type": "code",
   "execution_count": 5,
   "id": "ae5de284-79e3-4fde-91dd-dae56418b28a",
   "metadata": {},
   "outputs": [
    {
     "data": {
      "text/plain": [
       "3.3333333333333335"
      ]
     },
     "execution_count": 5,
     "metadata": {},
     "output_type": "execute_result"
    }
   ],
   "source": [
    "# This will convert 200 minutes to hours by dividing by 60\n",
    "(200/60)"
   ]
  },
  {
   "cell_type": "markdown",
   "id": "4e4d82f0-52e6-4d05-a933-3378d0f25548",
   "metadata": {},
   "source": [
    "## Author\n",
    "Bankole Fatima"
   ]
  },
  {
   "cell_type": "code",
   "execution_count": null,
   "id": "f860aa0c-deb2-45a0-9196-60b1ec5a3d1f",
   "metadata": {},
   "outputs": [],
   "source": []
  }
 ],
 "metadata": {
  "kernelspec": {
   "display_name": "Python 3 (ipykernel)",
   "language": "python",
   "name": "python3"
  },
  "language_info": {
   "codemirror_mode": {
    "name": "ipython",
    "version": 3
   },
   "file_extension": ".py",
   "mimetype": "text/x-python",
   "name": "python",
   "nbconvert_exporter": "python",
   "pygments_lexer": "ipython3",
   "version": "3.9.18"
  }
 },
 "nbformat": 4,
 "nbformat_minor": 5
}
